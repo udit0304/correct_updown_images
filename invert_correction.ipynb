{
 "cells": [
  {
   "cell_type": "code",
   "execution_count": 5,
   "metadata": {},
   "outputs": [],
   "source": [
    "import cv2\n",
    "import glob\n",
    "import numpy as np\n",
    "import os"
   ]
  },
  {
   "cell_type": "markdown",
   "metadata": {},
   "source": [
    "#### The algorithm bellow calculates the MSE of between reffrence image with the given image and 180 degree rotated given image. If the given rotated image has less MSE than the given image the the given image is detected as inverted."
   ]
  },
  {
   "cell_type": "code",
   "execution_count": 6,
   "metadata": {},
   "outputs": [
    {
     "name": "stdout",
     "output_type": "stream",
     "text": [
      "Metric :  1.0\n"
     ]
    }
   ],
   "source": [
    "corrected_count = 0\n",
    "\n",
    "images = glob.glob(\"./*.jpg\")\n",
    "ref_img = cv2.imread(\"reference_img.jpg\")\n",
    "for image in images:\n",
    "    if \"reference_img.jpg\" in image:\n",
    "        continue\n",
    "    img = cv2.imread(image)\n",
    "    if img.shape[0] != ref_img.shape[0] or img.shape[1] !=ref_img.shape[1]:\n",
    "        img = cv2.resize(img, (ref_img.shape[1], ref_img.shape[0]))\n",
    "    t1 = np.mean((ref_img-img)**2)\n",
    "    img_rot = np.rot90(img, 2)\n",
    "    t2 = np.mean((ref_img-img_rot)**2)\n",
    "    if t1 > t2:\n",
    "        cv2.imwrite(\"./corrected/\"+os.path.basename(image), img_rot)\n",
    "        corrected_count += 1\n",
    "\n",
    "print(\"Metric : \", corrected_count/(len(images)-1))"
   ]
  }
 ],
 "metadata": {
  "kernelspec": {
   "display_name": "Python 3",
   "language": "python",
   "name": "python3"
  },
  "language_info": {
   "codemirror_mode": {
    "name": "ipython",
    "version": 3
   },
   "file_extension": ".py",
   "mimetype": "text/x-python",
   "name": "python",
   "nbconvert_exporter": "python",
   "pygments_lexer": "ipython3",
   "version": "3.7.6"
  }
 },
 "nbformat": 4,
 "nbformat_minor": 4
}
